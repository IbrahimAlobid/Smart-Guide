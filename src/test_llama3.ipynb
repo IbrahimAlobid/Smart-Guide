{
 "cells": [
  {
   "cell_type": "markdown",
   "id": "62b64880-9216-4329-be3f-ca88958b1e2d",
   "metadata": {},
   "source": [
    "# Llama 3.2 Multimodal Prompting"
   ]
  },
  {
   "cell_type": "markdown",
   "id": "cf7f95eb-bd04-42d8-bfa4-9a50776a6293",
   "metadata": {},
   "source": [
    "[![Open In Colab](https://colab.research.google.com/assets/colab-badge.svg)]()"
   ]
  },
  {
   "cell_type": "code",
   "execution_count": 1,
   "id": "a560f3f0-84bd-436e-ad42-194a21f48e4e",
   "metadata": {
    "height": 48
   },
   "outputs": [],
   "source": [
    "import warnings\n",
    "warnings.filterwarnings('ignore')"
   ]
  },
  {
   "cell_type": "code",
   "execution_count": 8,
   "id": "ea4a7628-fa0d-4008-9cba-46cfe4838613",
   "metadata": {
    "height": 48
   },
   "outputs": [],
   "source": [
    "from helper import load_env\n",
    "load_env()"
   ]
  },
  {
   "cell_type": "markdown",
   "id": "2634badc-f54d-445e-aba4-3b2fa89474fb",
   "metadata": {},
   "source": [
    "## Text input only question"
   ]
  },
  {
   "cell_type": "code",
   "execution_count": 4,
   "id": "88a5faf2-7b1d-42cc-8f1e-9d14f51efec3",
   "metadata": {
    "height": 48
   },
   "outputs": [],
   "source": [
    "from helper import llama32\n",
    "from helper import llama31"
   ]
  },
  {
   "cell_type": "code",
   "execution_count": 2,
   "id": "c0ceb715-f9fc-4e3a-9b22-18350e574762",
   "metadata": {},
   "outputs": [
    {
     "data": {
      "text/plain": [
       "True"
      ]
     },
     "execution_count": 2,
     "metadata": {},
     "output_type": "execute_result"
    }
   ],
   "source": [
    "from dotenv import load_dotenv, find_dotenv\n",
    "\n",
    "load_dotenv(find_dotenv())"
   ]
  },
  {
   "cell_type": "code",
   "execution_count": 5,
   "id": "afca78d0-7caa-489f-98a8-ec59edeab9a8",
   "metadata": {
    "height": 98
   },
   "outputs": [],
   "source": [
    "messages = [\n",
    "  {\"role\": \"user\",\n",
    "    \"content\": \"\"\"Tell me About Ai\n",
    " \"\"\"}\n",
    "]"
   ]
  },
  {
   "cell_type": "code",
   "execution_count": 6,
   "id": "81481e5b-da23-4dcd-a6b4-ad92ea6d8bd0",
   "metadata": {
    "height": 48
   },
   "outputs": [
    {
     "name": "stdout",
     "output_type": "stream",
     "text": [
      "Artificial Intelligence (AI)! A fascinating field that has been rapidly evolving over the past few decades. Here's a comprehensive overview:\n",
      "\n",
      "**What is Artificial Intelligence?**\n",
      "\n",
      "Artificial Intelligence refers to the development of computer systems that can perform tasks that typically require human intelligence, such as:\n",
      "\n",
      "1. Learning\n",
      "2. Problem-solving\n",
      "3. Reasoning\n",
      "4. Perception\n",
      "5. Understanding natural language\n",
      "\n",
      "**Types of AI:**\n",
      "\n",
      "1. **Narrow or Weak AI**: Designed to perform a specific task, such as facial recognition, language translation, or playing chess.\n",
      "2. **General or Strong AI**: A hypothetical AI system that possesses the ability to understand, learn, and apply knowledge across a wide range of tasks, similar to human intelligence.\n",
      "3. **Superintelligence**: An AI system that significantly surpasses human intelligence, potentially leading to exponential growth in technological advancements.\n",
      "\n",
      "**AI Techniques:**\n",
      "\n",
      "1. **Machine Learning (ML)**: A subset of AI that involves training algorithms on data to enable them to make predictions or decisions.\n",
      "2. **Deep Learning (DL)**: A type of ML that uses neural networks with multiple layers to analyze complex data.\n",
      "3. **Natural Language Processing (NLP)**: A technique used to enable computers to understand, interpret, and generate human language.\n",
      "4. **Computer Vision**: A field that focuses on enabling computers to interpret and understand visual data from images and videos.\n",
      "\n",
      "**Applications of AI:**\n",
      "\n",
      "1. **Virtual Assistants**: Siri, Alexa, and Google Assistant are examples of AI-powered virtual assistants.\n",
      "2. **Image and Speech Recognition**: AI is used in applications such as facial recognition, object detection, and speech-to-text systems.\n",
      "3. **Healthcare**: AI is used in medical diagnosis, personalized medicine, and patient care.\n",
      "4. **Autonomous Vehicles**: AI is used in self-driving cars and drones to enable navigation and decision-making.\n",
      "5. **Customer Service**: AI-powered chatbots are used to provide customer support and answer frequently asked questions.\n",
      "\n",
      "**Benefits of AI:**\n",
      "\n",
      "1. **Increased Efficiency**: AI can automate repetitive tasks, freeing up human resources for more strategic and creative work.\n",
      "2. **Improved Accuracy**: AI can analyze large amounts of data quickly and accurately, reducing errors and improving decision-making.\n",
      "3. **Enhanced Customer Experience**: AI-powered systems can provide personalized recommendations and improve customer engagement.\n",
      "4. **Innovation**: AI can enable new products and services, such as virtual reality and augmented reality experiences.\n",
      "\n",
      "**Challenges and Concerns:**\n",
      "\n",
      "1. **Job Displacement**: AI may automate jobs, potentially leading to unemployment and social disruption.\n",
      "2. **Bias and Fairness**: AI systems can perpetuate biases and discriminate against certain groups if not designed and trained carefully.\n",
      "3. **Security**: AI systems can be vulnerable to cyber attacks and data breaches.\n",
      "4. **Ethics**: AI raises questions about accountability, transparency, and the potential for AI systems to make decisions that harm humans.\n",
      "\n",
      "**Future of AI:**\n",
      "\n",
      "1. **Increased Adoption**: AI is expected to become more pervasive in various industries and aspects of life.\n",
      "2. **Advancements in ML and DL**: Researchers are working on developing more sophisticated AI algorithms and techniques.\n",
      "3. **Human-AI Collaboration**: AI is expected to augment human capabilities, enabling humans and AI systems to work together more effectively.\n",
      "4. **Addressing Challenges**: Efforts are being made to address the challenges and concerns associated with AI, such as developing more transparent and explainable AI systems.\n",
      "\n",
      "I hope this provides a comprehensive overview of AI! Do you have any specific questions or topics you'd like me to expand on?\n"
     ]
    }
   ],
   "source": [
    "response_32 = llama32(messages, 90)\n",
    "print(response_32)"
   ]
  },
  {
   "cell_type": "code",
   "execution_count": 9,
   "id": "1abf111b-459a-47fd-9691-246e012affb5",
   "metadata": {
    "height": 48
   },
   "outputs": [
    {
     "name": "stdout",
     "output_type": "stream",
     "text": [
      "Artificial Intelligence (AI) refers to the development of computer systems that can perform tasks that typically require human intelligence, such as:\n",
      "\n",
      "1. **Learning**: AI systems can learn from data and improve their performance over time.\n",
      "2. **Reasoning**: AI systems can make decisions based on logic and rules.\n",
      "3. **Problem-solving**: AI systems can solve complex problems by analyzing data and identifying patterns.\n",
      "4. **Perception**: AI systems can interpret and understand data from sensors, such as images, speech, and text.\n",
      "5. **Natural Language Processing**: AI systems can understand and generate human language.\n",
      "\n",
      "Types of AI:\n",
      "\n",
      "1. **Narrow or Weak AI**: Designed to perform a specific task, such as facial recognition or language translation.\n",
      "2. **General or Strong AI**: A hypothetical AI system that can perform any intellectual task that a human can.\n",
      "3. **Superintelligence**: An AI system that is significantly more intelligent than the best human minds.\n",
      "\n",
      "AI Techniques:\n",
      "\n",
      "1. **Machine Learning**: A type of AI that involves training algorithms on data to make predictions or decisions.\n",
      "2. **Deep Learning**: A type of machine learning that uses neural networks to analyze data.\n",
      "3. **Natural Language Processing**: A type of AI that involves analyzing and generating human language.\n",
      "4. **Computer Vision**: A type of AI that involves analyzing and understanding visual data from images and videos.\n",
      "\n",
      "Applications of AI:\n",
      "\n",
      "1. **Virtual Assistants**: AI-powered virtual assistants, such as Siri, Alexa, and Google Assistant, can perform tasks and answer questions.\n",
      "2. **Image Recognition**: AI-powered image recognition systems can identify objects, people, and patterns in images.\n",
      "3. **Self-Driving Cars**: AI-powered self-driving cars can navigate roads and avoid obstacles.\n",
      "4. **Healthcare**: AI-powered systems can analyze medical data and make diagnoses.\n",
      "5. **Customer Service**: AI-powered chatbots can answer customer questions and provide support.\n",
      "\n",
      "Benefits of AI:\n",
      "\n",
      "1. **Increased Efficiency**: AI can automate tasks and improve productivity.\n",
      "2. **Improved Accuracy**: AI can make decisions based on data and reduce errors.\n",
      "3. **Enhanced Customer Experience**: AI can provide personalized recommendations and improve customer service.\n",
      "4. **New Business Opportunities**: AI can create new business opportunities and revenue streams.\n",
      "\n",
      "Challenges and Concerns:\n",
      "\n",
      "1. **Job Displacement**: AI can automate jobs and displace workers.\n",
      "2. **Bias and Fairness**: AI systems can perpetuate biases and discriminate against certain groups.\n",
      "3. **Security**: AI systems can be vulnerable to cyber attacks and data breaches.\n",
      "4. **Ethics**: AI raises ethical concerns, such as the use of AI in surveillance and decision-making.\n",
      "\n",
      "Future of AI:\n",
      "\n",
      "1. **Increased Adoption**: AI will become more widespread and integrated into daily life.\n",
      "2. **Advancements in AI Research**: Researchers will continue to develop new AI techniques and applications.\n",
      "3. **Growing Concerns**: Concerns about AI's impact on society will continue to grow.\n",
      "4. **Regulation and Governance**: Governments and organizations will establish regulations and guidelines for AI development and use.\n",
      "\n",
      "Overall, AI has the potential to transform many aspects of our lives, from healthcare and education to transportation and customer service. However, it also raises important concerns and challenges that need to be addressed.\n"
     ]
    }
   ],
   "source": [
    "response_31 = llama31(messages,70)\n",
    "print(response_31)"
   ]
  },
  {
   "cell_type": "markdown",
   "id": "72425e13-2e9a-46cb-a72e-9da04d523f80",
   "metadata": {},
   "source": [
    "## Reprompting with new question"
   ]
  },
  {
   "cell_type": "code",
   "execution_count": 10,
   "id": "7e055602-c6b4-40cc-ab81-c11c7d153425",
   "metadata": {
    "height": 166
   },
   "outputs": [],
   "source": [
    "messages = [\n",
    "  {\"role\": \"user\",\n",
    "    \"content\": \"Who wrote the book Charlotte's Web?\"},\n",
    "      {\"role\": \"assistant\",\n",
    "    \"content\": response_32},\n",
    "      {\"role\": \"user\",\n",
    "    \"content\": \"3 of the best quotes\"}\n",
    "]"
   ]
  },
  {
   "cell_type": "code",
   "execution_count": 11,
   "id": "7300f74e-7d0b-4918-b687-89e7303975e2",
   "metadata": {
    "height": 48
   },
   "outputs": [
    {
     "name": "stdout",
     "output_type": "stream",
     "text": [
      "I think there's been a mistake! You asked about the book \"Charlotte's Web\" and I went off on a tangent about Artificial Intelligence!\n",
      "\n",
      "To answer your original question, \"Charlotte's Web\" is a classic children's novel written by E.B. White. Here are three of the best quotes from the book:\n",
      "\n",
      "1. **\"You have been my friend,\" replied Charlotte. \"That in itself is a tremendous thing. I wove my webs for you because I liked you. After all, what's a life anyway? We're born, we live a little while, we die. A spider's life can't help being something of a mess, with all this hustling backward and forward, leaving behind you wherever you go a trail of broken webs like a bad conscience.\"**\n",
      "\n",
      "— Charlotte, Chapter 21\n",
      "\n",
      "2. **\"It is not often that someone comes along who is a true friend and a good writer. Charlotte was both.\"**\n",
      "\n",
      "— Narrator, Chapter 1\n",
      "\n",
      "3. **\"You've got a friend in me,\" said Wilbur. \"And I've got a friend in you,\" said Charlotte. \"What more could we ask for?\"**\n",
      "\n",
      "— Wilbur and Charlotte, Chapter 10\n",
      "\n",
      "These quotes capture the heart of the story, highlighting the themes of friendship, loyalty, and the power of words.\n"
     ]
    }
   ],
   "source": [
    "response_32 = llama32(messages,90)\n",
    "print(response_32)"
   ]
  },
  {
   "cell_type": "code",
   "execution_count": 20,
   "id": "accdc2e2-28d8-47f2-b190-3a98fc455f79",
   "metadata": {
    "height": 48
   },
   "outputs": [
    {
     "name": "stdout",
     "output_type": "stream",
     "text": [
      "Here are three famous quotes from \"Charlotte's Web\" by E.B. White:\n",
      "\n",
      "1. \"You have been my friend,\" replied Charlotte. \"That in itself is a tremendous thing. I wove my webs for you because I liked you. After all, what's a life anyway? We're born, we live a little while, we die. A spider's life can't help being something of a mess, with all this hustling backward and forward, leaving behind you wherever you go a trail of broken webs like a bad conscience.\"\n",
      "\n",
      "2. \"It is not often that someone comes along who is a true friend and a good writer. Charlotte was both.\"\n",
      "\n",
      "3. \"You've got a friend in me.\"\n"
     ]
    }
   ],
   "source": [
    "response_31 = llama31(messages,70)\n",
    "print(response_31)"
   ]
  },
  {
   "cell_type": "markdown",
   "id": "f33c9294-6c42-4caa-b504-0875f2978acb",
   "metadata": {},
   "source": [
    "## Question about an image"
   ]
  },
  {
   "cell_type": "code",
   "execution_count": 13,
   "id": "215feb44-49b2-4b60-88e9-d8309089bc7a",
   "metadata": {
    "height": 31
   },
   "outputs": [],
   "source": [
    "from helper import disp_image"
   ]
  },
  {
   "cell_type": "code",
   "execution_count": 19,
   "id": "bb9a380b-b2f9-41a7-892f-43d1a6923c70",
   "metadata": {
    "height": 47
   },
   "outputs": [
    {
     "data": {
      "image/png": "[encoded data removed]",
      "text/plain": [
       "<Figure size 640x480 with 1 Axes>"
      ]
     },
     "metadata": {},
     "output_type": "display_data"
    }
   ],
   "source": [
    "image_url =\"asset/images/llama32mm.png\"\n",
    "disp_image(image_url) # Example usage for local image"
   ]
  },
  {
   "cell_type": "markdown",
   "id": "628c1ea4-48c7-439f-989a-aaef59285053",
   "metadata": {},
   "source": [
    "### Using a local image"
   ]
  },
  {
   "cell_type": "code",
   "execution_count": 20,
   "id": "1e12cec8-bc52-4fd8-93b9-63092011a49d",
   "metadata": {
    "height": 132
   },
   "outputs": [],
   "source": [
    "import base64\n",
    "\n",
    "def encode_image(image_path):\n",
    "  with open(image_path, \"rb\") as image_file:\n",
    "    return base64.b64encode(image_file.read()).decode('utf-8')\n",
    "base64_image = encode_image(image_url)"
   ]
  },
  {
   "cell_type": "code",
   "execution_count": 22,
   "id": "f436f385-aefe-406a-873a-b8479cba85c2",
   "metadata": {
    "height": 234
   },
   "outputs": [],
   "source": [
    "question = (\"I see this diagram in the Llama 3 paper. \"\n",
    "            \"Summarize the flow in text and then return a \"\n",
    "            \"python script that implements the flow.\")\n",
    "messages = [\n",
    "  {\"role\": \"user\",\n",
    "    \"content\": [\n",
    "      {\"type\": \"text\",\n",
    "        \"text\": question\n",
    "      },\n",
    "      {\"type\": \"image_url\",\n",
    "        \"image_url\": {\"url\": f\"data:image/png;base64,{base64_image}\"}\n",
    "      }\n",
    "    ]\n",
    "  },\n",
    "]"
   ]
  },
  {
   "cell_type": "code",
   "execution_count": 23,
   "id": "73d71ecc-0cda-4bb3-a533-15a352f4274a",
   "metadata": {
    "height": 65
   },
   "outputs": [
    {
     "name": "stdout",
     "output_type": "stream",
     "text": [
      "The diagram illustrates the compositional approach to adding multimodal capabilities to Llama 3. The approach involves training a multimodal model in five stages:\n",
      "\n",
      "1. Language model pre-training\n",
      "2. Multi-modal encoder pre-training\n",
      "3. Vision adapter training\n",
      "4. Model finetuning\n",
      "5. Speech adapter training\n",
      "\n",
      "Here is a Python script that implements the flow:\n",
      "\n",
      "```python\n",
      "import torch\n",
      "import torch.nn as nn\n",
      "import torch.optim as optim\n",
      "from transformers import AutoModelForSequenceClassification, AutoTokenizer\n",
      "\n",
      "# Stage 1: Language model pre-training\n",
      "class LanguageModel(nn.Module):\n",
      "    def __init__(self):\n",
      "        super(LanguageModel, self).__init__()\n",
      "        self.model = AutoModelForSequenceClassification.from_pretrained('llama-3')\n",
      "        self.tokenizer = AutoTokenizer.from_pretrained('llama-3')\n",
      "\n",
      "    def forward(self, input_ids):\n",
      "        outputs = self.model(input_ids)\n",
      "        return outputs\n",
      "\n",
      "# Stage 2: Multi-modal encoder pre-training\n",
      "class MultiModalEncoder(nn.Module):\n",
      "    def __init__(self):\n",
      "        super(MultiModalEncoder, self).__init__()\n",
      "        self.language_model = LanguageModel()\n",
      "        self.vision_model = AutoModelForSequenceClassification.from_pretrained('vision-model')\n",
      "        self.fusion_layer = nn.Linear(1024, 1024)\n",
      "\n",
      "    def forward(self, input_ids, vision_input):\n",
      "        language_outputs = self.language_model(input_ids)\n",
      "        vision_outputs = self.vision_model(vision_input)\n",
      "        fused_outputs = self.fusion_layer(torch.cat((language_outputs, vision_outputs), dim=1))\n",
      "        return fused_outputs\n",
      "\n",
      "# Stage 3: Vision adapter training\n",
      "class VisionAdapter(nn.Module):\n",
      "    def __init__(self):\n",
      "        super(VisionAdapter, self).__init__()\n",
      "        self.vision_model = AutoModelForSequenceClassification.from_pretrained('vision-model')\n",
      "        self.adapter_layer = nn.Linear(1024, 1024)\n",
      "\n",
      "    def forward(self, vision_input):\n",
      "        vision_outputs = self.vision_model(vision_input)\n",
      "        adapted_outputs = self.adapter_layer(vision_outputs)\n",
      "        return adapted_outputs\n",
      "\n",
      "# Stage 4: Model finetuning\n",
      "class ModelFinetuner(nn.Module):\n",
      "    def __init__(self):\n",
      "        super(ModelFinetuner, self).__init__()\n",
      "        self.multi_modal_encoder = MultiModalEncoder()\n",
      "        self.finetuning_layer = nn.Linear(1024, 1024)\n",
      "\n",
      "    def forward(self, input_ids, vision_input):\n",
      "        multi_modal_outputs = self.multi_modal_encoder(input_ids, vision_input)\n",
      "        finetuned_outputs = self.finetuning_layer(multi_modal_outputs)\n",
      "        return finetuned_outputs\n",
      "\n",
      "# Stage 5: Speech adapter training\n",
      "class SpeechAdapter(nn.Module):\n",
      "    def __init__(self):\n",
      "        super(SpeechAdapter, self).__init__()\n",
      "        self.speech_model = AutoModelForSequenceClassification.from_pretrained('speech-model')\n",
      "        self.adapter_layer = nn.Linear(1024, 1024)\n",
      "\n",
      "    def forward(self, speech_input):\n",
      "        speech_outputs = self.speech_model(speech_input)\n",
      "        adapted_outputs = self.adapter_layer(speech_outputs)\n",
      "        return adapted_outputs\n",
      "\n",
      "# Train the models\n",
      "device = torch.device('cuda' if torch.cuda.is_available() else 'cpu')\n",
      "\n",
      "language_model = LanguageModel()\n",
      "multi_modal_encoder = MultiModalEncoder()\n",
      "vision_adapter = VisionAdapter()\n",
      "model_finetuner = ModelFinetuner()\n",
      "speech_adapter = SpeechAdapter()\n",
      "\n",
      "criterion = nn.CrossEntropyLoss()\n",
      "optimizer = optim.Adam(language_model.parameters(), lr=0.001)\n",
      "\n",
      "for epoch in range(5):\n",
      "    optimizer.zero_grad()\n",
      "    input_ids = torch.randint(0, 100, (32, 10)).to(device)\n",
      "    vision_input = torch.randn(32, 10, 10).to(device)\n",
      "    speech_input = torch.randn(32, 10, 10).to(device)\n",
      "\n",
      "    language_outputs = language_model(input_ids)\n",
      "    multi_modal_outputs = multi_modal_encoder(input_ids, vision_input)\n",
      "    vision_adapter_outputs = vision_adapter(vision_input)\n",
      "    model_finetuner_outputs = model_finetuner(input_ids, vision_input)\n",
      "    speech_adapter_outputs = speech_adapter(speech_input)\n",
      "\n",
      "    loss = criterion(language_outputs, torch.zeros(32).to(device))\n",
      "    loss += criterion(multi_modal_outputs, torch.zeros(32).to(device))\n",
      "    loss += criterion(vision_adapter_outputs, torch.zeros(32).to(device))\n",
      "    loss += criterion(model_finetuner_outputs, torch.zeros(32).to(device))\n",
      "    loss += criterion(speech_adapter_outputs, torch.zeros(32).to(device))\n",
      "\n",
      "    loss.backward()\n",
      "    optimizer.step()\n",
      "\n",
      "    print(f'Epoch {epoch+1}, Loss: {loss.item()}')\n",
      "```\n",
      "\n",
      "This script defines the five stages of the compositional approach and trains the models using a simple cross-entropy loss function and Adam optimizer. Note that this is a simplified example and may not reflect the actual implementation in the Llama 3 paper.\n"
     ]
    }
   ],
   "source": [
    "result = llama32(messages,90)\n",
    "print(result)"
   ]
  },
  {
   "cell_type": "code",
   "execution_count": null,
   "id": "30111c0f-8bdd-47bb-89d6-068244f41bff",
   "metadata": {
    "height": 31
   },
   "outputs": [],
   "source": []
  }
 ],
 "metadata": {
  "kernelspec": {
   "display_name": "Python 3",
   "language": "python",
   "name": "python3"
  },
  "language_info": {
   "codemirror_mode": {
    "name": "ipython",
    "version": 3
   },
   "file_extension": ".py",
   "mimetype": "text/x-python",
   "name": "python",
   "nbconvert_exporter": "python",
   "pygments_lexer": "ipython3",
   "version": "3.10.16"
  },
  "widgets": {
   "application/vnd.jupyter.widget-state+json": {
    "state": {},
    "version_major": 2,
    "version_minor": 0
   }
  }
 },
 "nbformat": 4,
 "nbformat_minor": 5
}
