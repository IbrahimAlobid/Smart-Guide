{
 "cells": [
  {
   "cell_type": "code",
   "execution_count": 18,
   "metadata": {
    "id": "hdUGopmgu5ny"
   },
   "outputs": [],
   "source": [
    "!pip install -qU crewai[tools,agentops]==0.95.0"
   ]
  },
  {
   "cell_type": "code",
   "execution_count": 19,
   "metadata": {
    "id": "wGaAIqLwAsOl"
   },
   "outputs": [],
   "source": [
    "!pip install -qU tavily-python scrapegraph-py"
   ]
  },
  {
   "cell_type": "code",
   "execution_count": 20,
   "metadata": {
    "id": "9cLADO7Z9UH9"
   },
   "outputs": [],
   "source": [
    "!pip install -qU litellm"
   ]
  },
  {
   "cell_type": "code",
   "execution_count": 21,
   "metadata": {
    "id": "57TGD8YG2k4F"
   },
   "outputs": [],
   "source": [
    "from crewai import Agent, Task, Crew, Process, LLM\n",
    "from crewai.tools import tool\n",
    "\n",
    "import agentops\n",
    "import os\n",
    "from google.colab import userdata\n",
    "\n",
    "from pydantic import BaseModel, Field\n",
    "from typing import List\n",
    "from tavily import TavilyClient"
   ]
  },
  {
   "cell_type": "code",
   "execution_count": 22,
   "metadata": {
    "id": "bWP0r1ND3KWu"
   },
   "outputs": [],
   "source": [
    "GROQ_API_KEY=userdata.get('GROQ_API_KEY')\n",
    "os.environ[\"GROQ_API_KEY\"] =userdata.get('GROQ_API_KEY')\n",
    "os.environ[\"AGENTOPS_API_KEY\"] = userdata.get('AGENT_OPS_API_KEY')\n"
   ]
  },
  {
   "cell_type": "code",
   "execution_count": 23,
   "metadata": {
    "colab": {
     "base_uri": "https://localhost:8080/"
    },
    "id": "gBtjuG6W9gRF",
    "outputId": "966fc2d1-71a3-4096-a8f8-47693ac436b5"
   },
   "outputs": [
    {
     "name": "stdout",
     "output_type": "stream",
     "text": [
      "ModelResponse(id='chatcmpl-47134420-9836-427c-8d9e-cddbad8cd8e4', created=1736967591, model='groq/llama-3.1-70b-versatile', object='chat.completion', system_fingerprint='fp_4e32347616', choices=[Choices(finish_reason='stop', index=0, message=Message(content=\"Hello from the other side. It's nice to meet you, Litellm. How can I assist you today or would you like to chat?\", role='assistant', tool_calls=None, function_call=None))], usage=Usage(completion_tokens=31, prompt_tokens=40, total_tokens=71, completion_tokens_details=None, prompt_tokens_details=None, queue_time=0.7827918460000001, prompt_time=0.007730818, completion_time=0.112727273, total_time=0.120458091), x_groq={'id': 'req_01jhnnc591e0sra68yps70jvs1'})\n"
     ]
    }
   ],
   "source": [
    "from litellm import completion\n",
    "import os\n",
    "\n",
    "os.environ['GROQ_API_KEY'] = userdata.get('GROQ_API_KEY')\n",
    "response = completion(\n",
    "    model=\"groq/llama-3.1-70b-versatile\",\n",
    "    messages=[\n",
    "       {\"role\": \"user\", \"content\": \"hello from litellm\"}\n",
    "   ],\n",
    ")\n",
    "print(response)"
   ]
  },
  {
   "cell_type": "code",
   "execution_count": 24,
   "metadata": {
    "id": "CU9uIRi23E8F"
   },
   "outputs": [],
   "source": [
    "basic_llm = LLM(\n",
    "    model=\"groq/llama-3.1-70b-versatile\",\n",
    "    temperature=0\n",
    ")\n",
    "search_client = TavilyClient(api_key=userdata.get('TVLY_API_KEY'))"
   ]
  },
  {
   "cell_type": "code",
   "execution_count": 25,
   "metadata": {
    "colab": {
     "base_uri": "https://localhost:8080/"
    },
    "id": "yxPZe9sY3E-r",
    "outputId": "ed859ab4-cfff-438b-890e-53c4613d5e5a"
   },
   "outputs": [
    {
     "name": "stderr",
     "output_type": "stream",
     "text": [
      "🖇 AgentOps: \u001b[34mSession Replay: https://app.agentops.ai/drilldown?session_id=453839fb-31c1-457a-8c55-8a4bccfb08e2\u001b[0m\n"
     ]
    },
    {
     "data": {
      "text/plain": [
       "<agentops.session.Session at 0x7d7cf113df60>"
      ]
     },
     "execution_count": 25,
     "metadata": {},
     "output_type": "execute_result"
    }
   ],
   "source": [
    "\n",
    "agentops.init(\n",
    "    api_key=userdata.get('AGENT_OPS_API_KEY'),\n",
    "    skip_auto_end_session=True\n",
    ")"
   ]
  },
  {
   "cell_type": "markdown",
   "metadata": {
    "id": "2Ewa6tEibKjQ"
   },
   "source": []
  },
  {
   "cell_type": "code",
   "execution_count": 38,
   "metadata": {
    "colab": {
     "base_uri": "https://localhost:8080/"
    },
    "collapsed": true,
    "id": "VbgO1ru0aeYR",
    "jupyter": {
     "outputs_hidden": true
    },
    "outputId": "b21433a2-0c4d-4ca2-8b00-0b12931bf3a1"
   },
   "outputs": [
    {
     "name": "stderr",
     "output_type": "stream",
     "text": [
      "🖇 AgentOps: Invalid end_state. Please use one of the EndState enums\n"
     ]
    }
   ],
   "source": [
    "#end_state = \"success\" \n",
    "#agentops.end_session(end_state)\n"
   ]
  },
  {
   "cell_type": "code",
   "execution_count": 26,
   "metadata": {
    "id": "nP2h4Tqk3FB_"
   },
   "outputs": [],
   "source": [
    "output_dir = \"./ai-agent-output\"\n",
    "os.makedirs(output_dir, exist_ok=True)"
   ]
  },
  {
   "cell_type": "code",
   "execution_count": 31,
   "metadata": {
    "id": "2QlxyeFW5p2r"
   },
   "outputs": [],
   "source": [
    "no_keywords = 15\n",
    "\n",
    "list_make_cars = [\n",
    "    \"Make\",\n",
    "    \"Abarth\",\n",
    "    \"Alfa Romeo\",\n",
    "    \"Aston Martin\",\n",
    "    \"Audi\",\n",
    "    \"Bentley\",\n",
    "    \"BMW\",\n",
    "    \"Cadillac\",\n",
    "    \"Changan\",\n",
    "    \"Chevrolet\",\n",
    "    \"Dodge\",\n",
    "    \"Ferrari\",\n",
    "    \"Fiat\",\n",
    "    \"Ford\",\n",
    "    \"Hyundai\",\n",
    "    \"Infiniti\",\n",
    "    \"Jaguar\",\n",
    "    \"Jeep\",\n",
    "    \"KIA\",\n",
    "    \"Lamborghini\",\n",
    "    \"Land Rover\",\n",
    "    \"Lexus\",\n",
    "    \"Lincoln\",\n",
    "    \"Maserati\",\n",
    "    \"Maybach\",\n",
    "    \"Mazda\",\n",
    "    \"McLaren\",\n",
    "    \"Mercedes-Benz\",\n",
    "    \"MG\",\n",
    "    \"Mini\",\n",
    "    \"Mitsubishi\",\n",
    "    \"Nissan\",\n",
    "    \"Porsche\",\n",
    "    \"Range Rover\",\n",
    "    \"Renault\",\n",
    "    \"Rolls Royce\",\n",
    "    \"Subaru\",\n",
    "    \"Suzuki\",\n",
    "    \"Tesla\",\n",
    "    \"Toyota\",\n",
    "    \"Volkswagen\",\n",
    "    \"Volvo\"\n",
    "]\n",
    "\n",
    "type_list = [\n",
    "    \"Type\",\n",
    "    \"Hatchback\",\n",
    "    \"Sedan\",\n",
    "    \"Coupe\",\n",
    "    \"Convertible\",\n",
    "    \"Crossover\",\n",
    "    \"SUV\",\n",
    "    \"Van\",\n",
    "    \"Pickup\"\n",
    "]\n",
    "websites_list =[\"https://www.arabam.com/\" , \"https://www.cars.com/\" , \"https://www.arabalar.com.tr/\"]\n",
    "product_name = \"Car\"\n"
   ]
  },
  {
   "cell_type": "code",
   "execution_count": 29,
   "metadata": {
    "id": "zL88D_GI3FFr"
   },
   "outputs": [],
   "source": [
    "class SuggestedSearchQueries(BaseModel):\n",
    "    queries: List[str] = Field(\n",
    "        ...,\n",
    "        title=\"Suggested search queries\",\n",
    "        description=\"A list of search queries for the search engine.\",\n",
    "        min_items=1,\n",
    "        max_items=10\n",
    "    )\n",
    "\n",
    "search_queries_recommendation_agent = Agent(\n",
    "    role=\"Search Queries Recommendation Agent\",\n",
    "    goal=\"\\n\".join([\n",
    "        \"Generate a list of targeted search queries based on user preferences, platform needs, and contextual data.\" ,\n",
    "        \"To provide a list of suggested search queries to be passed to the search engine.\",\n",
    "        \"The queries must be varied and looking for specific items.\"\n",
    "    ]),\n",
    "    backstory=(\n",
    "        \"This agent helps users of Murshid by suggesting search queries tailored to finding the right car listings.\"\n",
    "    ),\n",
    "    llm=basic_llm,\n",
    "    verbose=True,\n",
    ")\n",
    "search_queries_recommendation_task = Task(\n",
    "    description=\"\\n\".join([\n",
    "        \"The user is searching for a car with the following requirements:\",\n",
    "        \"- Price under {max_price}.\",\n",
    "        \"- Manufacturer: {make_car}.\",\n",
    "        \"The user wants to buy {product_name} at the best prices (value-for-price strategy).\",\n",
    "        \"Target websites for purchase: {websites_list}.\",\n",
    "        \"All available products on the internet should be included for comparison at a later stage.\",\n",
    "        \"The stores must sell the product in {country_name}.\",\n",
    "        \"Generate a maximum of {no_keywords} queries.\",\n",
    "        \"Search queries must be written in the {language} language.\",\n",
    "        \"Queries must specify the car type: {car_type}. Avoid using general keywords.\",\n",
    "        \"The search query must lead to an e-commerce product page, not blogs or listing pages.\"\n",
    "    ]),\n",
    "    expected_output=\"A JSON object containing a list of suggested search queries.\",\n",
    "    output_json=SuggestedSearchQueries,\n",
    "    output_file=os.path.join(output_dir, \"step_1_suggested_search_queries.json\"),\n",
    "    agent=search_queries_recommendation_agent\n",
    ")"
   ]
  },
  {
   "cell_type": "code",
   "execution_count": 32,
   "metadata": {
    "colab": {
     "base_uri": "https://localhost:8080/"
    },
    "id": "pGI5iLSb3FIT",
    "outputId": "179241e0-d910-4432-9a5b-26a0a59a4b4f"
   },
   "outputs": [
    {
     "name": "stderr",
     "output_type": "stream",
     "text": [
      "WARNING:opentelemetry.trace:Overriding of current TracerProvider is not allowed\n"
     ]
    }
   ],
   "source": [
    "murshid_crew = Crew(\n",
    "    agents=[\n",
    "        search_queries_recommendation_agent\n",
    "    ],\n",
    "    tasks=[\n",
    "        search_queries_recommendation_task\n",
    "    ],\n",
    "    process=Process.sequential,\n",
    ")"
   ]
  },
  {
   "cell_type": "code",
   "execution_count": 34,
   "metadata": {
    "colab": {
     "base_uri": "https://localhost:8080/"
    },
    "id": "H7xAG2pN7e81",
    "outputId": "5f056399-1760-4e6a-ad46-00e5cbe8e3cf"
   },
   "outputs": [
    {
     "name": "stdout",
     "output_type": "stream",
     "text": [
      "\u001b[1m\u001b[95m# Agent:\u001b[00m \u001b[1m\u001b[92mSearch Queries Recommendation Agent\u001b[00m\n",
      "\u001b[95m## Task:\u001b[00m \u001b[92mThe user is searching for a car with the following requirements:\n",
      "- Price under 10000$.\n",
      "- Manufacturer: KIA.\n",
      "The user wants to buy Car at the best prices (value-for-price strategy).\n",
      "Target websites for purchase: ['https://www.arabam.com/', 'https://www.cars.com/', 'https://www.arabalar.com.tr/'].\n",
      "All available products on the internet should be included for comparison at a later stage.\n",
      "The stores must sell the product in Egypt.\n",
      "Generate a maximum of 10 queries.\n",
      "Search queries must be written in the English language.\n",
      "Queries must specify the car type: Sedan. Avoid using general keywords.\n",
      "The search query must lead to an e-commerce product page, not blogs or listing pages.\u001b[00m\n",
      "\n",
      "\n",
      "\u001b[1m\u001b[95m# Agent:\u001b[00m \u001b[1m\u001b[92mSearch Queries Recommendation Agent\u001b[00m\n",
      "\u001b[95m## Final Answer:\u001b[00m \u001b[92m\n",
      "{\n",
      "  \"queries\": [\n",
      "    \"KIA Sedan for sale in Egypt under 10000\",\n",
      "    \"Buy KIA Sedan in Egypt price under 10000\",\n",
      "    \"KIA Sedan models in Egypt for sale at best price\",\n",
      "    \"Cheap KIA Sedan in Egypt for sale\",\n",
      "    \"KIA Sedan for sale in Egypt with price under 10000 dollars\",\n",
      "    \"Best price KIA Sedan in Egypt\",\n",
      "    \"KIA Sedan in Egypt for sale at arabam\",\n",
      "    \"KIA Sedan in Egypt for sale at cars.com\",\n",
      "    \"KIA Sedan in Egypt for sale at arabalar\",\n",
      "    \"KIA Sedan for sale in Egypt with low price under 10000\"\n",
      "  ]\n",
      "}\u001b[00m\n",
      "\n",
      "\n"
     ]
    }
   ],
   "source": [
    "crew_results = murshid_crew.kickoff(\n",
    "    inputs={\n",
    "        \"max_price\":\"10000$\" ,\n",
    "        \"make_car\": \"KIA\",\n",
    "        \"product_name\":product_name,\n",
    "        \"websites_list\":websites_list,\n",
    "        \"country_name\": \"Egypt\",\n",
    "        \"no_keywords\": 10,\n",
    "        \"language\": \"English\" ,\n",
    "        \"car_type\": \"Sedan\"\n",
    "\n",
    "    }\n",
    ")"
   ]
  },
  {
   "cell_type": "code",
   "execution_count": null,
   "metadata": {
    "id": "Id0HPekkVA9n"
   },
   "outputs": [],
   "source": [
    "class SignleSearchResult(BaseModel):\n",
    "    title: str\n",
    "    url: str = Field(..., title=\"the page url\")\n",
    "    content: str\n",
    "    score: float\n",
    "    search_query: str\n",
    "\n",
    "class AllSearchResults(BaseModel):\n",
    "    results: List[SignleSearchResult]\n",
    "\n",
    "@tool\n",
    "def search_engine_tool(query: str):\n",
    "    \"\"\"Useful for search-based queries. Use this to find current information about any query related pages using a search engine\"\"\"\n",
    "    return search_client.search(query)\n",
    "\n",
    "search_engine_agent = Agent(\n",
    "    role=\"Search Engine Agent\",\n",
    "    goal=\"To search for products based on the suggested search query\",\n",
    "    backstory=\"This agent helps users of Murshid by suggesting search queries tailored to finding the right car listings.\",\n",
    "    llm=basic_llm,\n",
    "    verbose=True,\n",
    "    tools=[search_engine_tool]\n",
    ")\n",
    "\n",
    "search_engine_task = Task(\n",
    "    description=\"\\n\".join([\n",
    "        \"The task is to search for products based on the suggested search queries.\",\n",
    "        \"You have to collect results from multiple search queries.\",\n",
    "        \"Ignore any susbicious links or not an ecommerce single product website link.\",\n",
    "        \"Ignore any search results with confidence score less than ({score_th}) .\",\n",
    "        \"The search results will be used to compare prices of products from different websites.\",\n",
    "    ]),\n",
    "    expected_output=\"A JSON object containing the search results.\",\n",
    "    output_json=AllSearchResults,\n",
    "    output_file=os.path.join(output_dir, \"step_2_search_results.json\"),\n",
    "    agent=search_engine_agent\n",
    ")"
   ]
  },
  {
   "cell_type": "code",
   "execution_count": null,
   "metadata": {},
   "outputs": [],
   "source": [
    "earch_engine_agent = Agent(\n",
    "    role=\"Search Engine Agent\",\n",
    "    goal=\"To search for products based on the suggested search query\",\n",
    "    backstory=\"The agent is designed to help in looking for products by searching for products based on the suggested search queries.\",\n",
    "    llm=basic_llm,\n",
    "    verbose=True,\n",
    "    tools=[search_engine_tool]\n",
    ")"
   ]
  }
 ],
 "metadata": {
  "colab": {
   "provenance": []
  },
  "kernelspec": {
   "display_name": "Python 3 (ipykernel)",
   "language": "python",
   "name": "python3"
  },
  "language_info": {
   "codemirror_mode": {
    "name": "ipython",
    "version": 3
   },
   "file_extension": ".py",
   "mimetype": "text/x-python",
   "name": "python",
   "nbconvert_exporter": "python",
   "pygments_lexer": "ipython3",
   "version": "3.11.9"
  },
  "widgets": {
   "application/vnd.jupyter.widget-state+json": {
    "state": {},
    "version_major": 2,
    "version_minor": 0
   }
  }
 },
 "nbformat": 4,
 "nbformat_minor": 4
}
